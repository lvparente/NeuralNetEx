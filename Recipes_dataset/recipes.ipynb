{
 "cells": [
  {
   "cell_type": "markdown",
   "metadata": {},
   "source": [
    "# Setup\n",
    "Import dependecies and dataset"
   ]
  },
  {
   "cell_type": "code",
   "execution_count": 32,
   "metadata": {},
   "outputs": [],
   "source": [
    "import csv\n",
    "import numpy as np\n",
    "import pandas as pd\n",
    "import matplotlib.pyplot as plt \n",
    "\n",
    "from keras import layers\n",
    "from keras import models\n",
    "from keras import metrics\n",
    "from keras import activations\n",
    "from keras import optimizers\n",
    "\n",
    "from sklearn import model_selection\n",
    "from sklearn import metrics\n",
    "from sklearn import preprocessing\n",
    "\n",
    "from imblearn import over_sampling\n",
    "from imblearn import under_sampling\n",
    "\n",
    "\n",
    "recipes = pd.read_csv('recipes/recipes.csv')"
   ]
  },
  {
   "cell_type": "markdown",
   "metadata": {},
   "source": [
    "# Preprocessing Steps\n",
    "Changes cells representations from words to integers"
   ]
  },
  {
   "cell_type": "code",
   "execution_count": 33,
   "metadata": {},
   "outputs": [],
   "source": [
    "def word2int(elem):\n",
    "    if elem == 'No':\n",
    "        return 0\n",
    "    elif elem == 'Yes':\n",
    "        return 1\n",
    "    else: return elem\n",
    "    \n",
    "recipes = recipes.applymap(word2int)"
   ]
  },
  {
   "cell_type": "markdown",
   "metadata": {},
   "source": [
    "### Eliminates redundant labels"
   ]
  },
  {
   "cell_type": "code",
   "execution_count": 35,
   "metadata": {},
   "outputs": [],
   "source": [
    "recipes['country'].replace(to_replace='Italian', value='Italy', inplace=True)\n",
    "recipes['country'].replace(to_replace='italian', value='Italy', inplace=True)\n",
    "    \n",
    "recipes['country'].replace(to_replace='French', value='France', inplace=True)\n",
    "recipes['country'].replace(to_replace='German', value='Germany', inplace=True)  \n",
    "\n",
    "recipes['country'].replace(to_replace='mexico', value='Mexico', inplace=True)\n",
    "recipes['country'].replace(to_replace='asian', value='Asian', inplace=True)\n",
    "\n",
    "recipes['country'].replace(to_replace='Chinese', value='China', inplace=True)\n",
    "recipes['country'].replace(to_replace='chinese', value='China', inplace=True) \n",
    "\n",
    "recipes['country'].replace(to_replace='korean', value='Korea', inplace=True)\n",
    "recipes['country'].replace(to_replace='Thai', value='Thailand', inplace=True)   \n",
    "\n",
    "recipes['country'].replace(to_replace='Japanese', value='Japan', inplace=True)\n",
    "recipes['country'].replace(to_replace='japanese', value='Japan', inplace=True) \n",
    "\n",
    "recipes['country'].replace(to_replace='Indian', value='India', inplace=True)\n",
    "recipes['country'].replace(to_replace='Vietnamese', value='Vietnam', inplace=True)  \n",
    "recipes['country'].replace(to_replace='Scandinavian', value='Scandinavia', inplace=True)"
   ]
  },
  {
   "cell_type": "markdown",
   "metadata": {},
   "source": [
    "### Split into labels and features"
   ]
  },
  {
   "cell_type": "code",
   "execution_count": 37,
   "metadata": {},
   "outputs": [],
   "source": [
    "y = recipes['country']\n",
    "\n",
    "X = recipes.drop(columns=['country'])"
   ]
  },
  {
   "cell_type": "markdown",
   "metadata": {},
   "source": [
    "### Plot histogram of classes"
   ]
  },
  {
   "cell_type": "code",
   "execution_count": 38,
   "metadata": {},
   "outputs": [
    {
     "data": {
      "image/png": "[encoded data removed]",
      "text/plain": [
       "<Figure size 432x288 with 1 Axes>"
      ]
     },
     "metadata": {
      "needs_background": "light"
     },
     "output_type": "display_data"
    }
   ],
   "source": [
    "nclasses = len(set(y))\n",
    "\n",
    "y_plot = y.astype('category')\n",
    "y_plot = y_plot.cat.codes\n",
    "\n",
    "y_hist = np.empty(nclasses)\n",
    "\n",
    "for i in range(nclasses):\n",
    "    y_hist[i] = len(y_plot[y_plot==i])\n",
    "\n",
    "    \n",
    "fig, ax = plt.subplots()\n",
    "\n",
    "ax.set_xlabel('Class')\n",
    "ax.set_title('Classes Distribution')\n",
    "ax.set_ylabel('Frequency')\n",
    "\n",
    "plot = plt.bar(range(nclasses), y_hist)\n",
    "plt.show()"
   ]
  },
  {
   "cell_type": "markdown",
   "metadata": {},
   "source": [
    "### Split into train, test and validation sets"
   ]
  },
  {
   "cell_type": "code",
   "execution_count": 39,
   "metadata": {},
   "outputs": [],
   "source": [
    "X_train, X_test, y_train, y_test = model_selection.train_test_split(X, y, test_size=0.2,\n",
    "                                                                    random_state=123, stratify=y)\n",
    "\n",
    "X_train, X_val, y_train, y_val = model_selection.train_test_split(X_train, y_train, test_size=0.2,\n",
    "                                                                  random_state=123, stratify=y_train)"
   ]
  },
  {
   "cell_type": "markdown",
   "metadata": {},
   "source": [
    "### Eliminate some examples of the marjority class"
   ]
  },
  {
   "cell_type": "code",
   "execution_count": 40,
   "metadata": {},
   "outputs": [],
   "source": [
    "X_train['country'] = y_train\n",
    "\n",
    "indexNames = X_train[X_train['country'] == 'American'].index \n",
    "rows2drop =indexNames[:-1000]\n",
    "\n",
    "X_train.drop(rows2drop, inplace=True)\n",
    "\n",
    "indexNames = X_train[X_train['country'] == 'Italy'].index \n",
    "rows2drop =indexNames[:-1000]\n",
    "\n",
    "X_train.drop(rows2drop, inplace=True)\n",
    "\n",
    "indexNames = X_train[X_train['country'] == 'Mexico'].index \n",
    "rows2drop =indexNames[:-1000]\n",
    "\n",
    "X_train.drop(rows2drop, inplace=True)\n",
    "\n",
    "\n",
    "y_train = X_train['country']\n",
    "\n",
    "X_train = X_train.drop(columns=['country'])\n",
    "\n",
    "y_train = y_train.values\n",
    "X_train = X_train.values"
   ]
  },
  {
   "cell_type": "markdown",
   "metadata": {},
   "source": [
    "### Plot histogram of classes after resampling"
   ]
  },
  {
   "cell_type": "code",
   "execution_count": 41,
   "metadata": {},
   "outputs": [
    {
     "data": {
      "image/png": "[encoded data removed]",
      "text/plain": [
       "<Figure size 432x288 with 1 Axes>"
      ]
     },
     "metadata": {
      "needs_background": "light"
     },
     "output_type": "display_data"
    }
   ],
   "source": [
    "nclasses = len(set(y))\n",
    "\n",
    "y_plot = pd.Series(y_train)\n",
    "y_plot = y_plot.astype('category')\n",
    "y_plot = y_plot.cat.codes\n",
    "\n",
    "y_hist = np.empty(nclasses)\n",
    "\n",
    "for i in range(nclasses):\n",
    "    y_hist[i] = len(y_plot[y_plot==i])\n",
    "\n",
    "    \n",
    "fig, ax = plt.subplots()\n",
    "\n",
    "ax.set_xlabel('Class')\n",
    "ax.set_title('Classes Distribution')\n",
    "ax.set_ylabel('Frequency')\n",
    "\n",
    "plot = plt.bar(range(nclasses), y_hist)\n",
    "plt.show()"
   ]
  },
  {
   "cell_type": "markdown",
   "metadata": {},
   "source": [
    "### One hot encoding labels\n",
    "Transform labels from categorical to one-hot-encoded "
   ]
  },
  {
   "cell_type": "code",
   "execution_count": 42,
   "metadata": {},
   "outputs": [
    {
     "name": "stdout",
     "output_type": "stream",
     "text": [
      "['Bangladesh', 'Southwestern', 'UK-and-Ireland', 'Malaysia', 'western', 'Turkey', 'Spain', 'Japan', 'Thailand', 'Philippines', 'east_asian', 'Israel', 'Central_SouthAmerican', 'Pakistan', 'Mexico', 'Eastern-Europe', 'Austria', 'China', 'EasternEuropean_Russian', 'Mexican', 'Moroccan', 'Vietnam', 'France', 'South-America', 'Cajun_Creole', 'American', 'Spanish_Portuguese', 'Asian', 'Mediterranean', 'Scandinavia', 'South-African', 'African', 'Irish', 'Portugal', 'Lebanon', 'Caribbean', 'Italy', 'Korea', 'North-African', 'Switzerland', 'Belgium', 'MiddleEastern', 'Southern_SoulFood', 'Netherlands', 'India', 'West-African', 'Germany', 'Canada', 'East-African', 'Greek', 'English_Scottish', 'Indonesia', 'Iran', 'Jewish']\n"
     ]
    }
   ],
   "source": [
    "def one_hot_function(labels):\n",
    "    countries = list(set(labels))\n",
    "\n",
    "    one_hot_labels = np.zeros(shape=(labels.size, len(countries)))\n",
    "    \n",
    "    rows_it = range(labels.size)\n",
    "    columns_it = range(len(countries))\n",
    "    \n",
    "    for row in rows_it:\n",
    "        for column in columns_it:\n",
    "            if labels[row] == countries[column]:\n",
    "                one_hot_labels[row, column] = 1\n",
    "            \n",
    "    return pd.DataFrame(data=one_hot_labels, columns=countries)   \n",
    "\n",
    "\n",
    "y_train = one_hot_function(y_train)\n",
    "y_val = one_hot_function(y_val.values)\n",
    "y_test = one_hot_function(y_test.values)\n",
    "print(list(y_train))"
   ]
  },
  {
   "cell_type": "markdown",
   "metadata": {},
   "source": [
    "# Build the Neural Network structure\n",
    "Using Keras"
   ]
  },
  {
   "cell_type": "code",
   "execution_count": 43,
   "metadata": {},
   "outputs": [],
   "source": [
    "nn_input = layers.Input(shape=(383,))\n",
    "\n",
    "layer = layers.Dense(400, activation='relu')(nn_input)\n",
    "layer = layers.Dense(400, activation='relu')(layer)\n",
    "layer = layers.Dense(400, activation='relu')(layer)\n",
    "layer = layers.Dropout(0.5)(layer)\n",
    "output = layers.Dense(nclasses, activation='softmax')(layer)\n",
    "\n",
    "\n",
    "model = models.Model(nn_input, output)\n",
    "\n",
    "my_optimizer = optimizers.Adagrad(lr=0.01, epsilon=None, decay=0.0)\n",
    "\n",
    "model.compile(optimizer=my_optimizer,\n",
    "              loss='mean_absolute_error',\n",
    "              metrics=['accuracy'])\n"
   ]
  },
  {
   "cell_type": "markdown",
   "metadata": {},
   "source": [
    "# Train the Neural Network"
   ]
  },
  {
   "cell_type": "code",
   "execution_count": 44,
   "metadata": {
    "scrolled": false
   },
   "outputs": [
    {
     "name": "stdout",
     "output_type": "stream",
     "text": [
      "Train on 11014 samples, validate on 9231 samples\n",
      "Epoch 1/50\n",
      "11014/11014 [==============================] - 1s 128us/step - loss: 0.0338 - acc: 0.0900 - val_loss: 0.0113 - val_acc: 0.6959\n",
      "Epoch 2/50\n",
      "11014/11014 [==============================] - 1s 97us/step - loss: 0.0337 - acc: 0.0908 - val_loss: 0.0120 - val_acc: 0.6859\n",
      "Epoch 3/50\n",
      "11014/11014 [==============================] - 1s 97us/step - loss: 0.0317 - acc: 0.1437 - val_loss: 0.0135 - val_acc: 0.6361\n",
      "Epoch 4/50\n",
      "11014/11014 [==============================] - 1s 99us/step - loss: 0.0315 - acc: 0.1504 - val_loss: 0.0345 - val_acc: 0.0139\n",
      "Epoch 5/50\n",
      "11014/11014 [==============================] - 1s 99us/step - loss: 0.0304 - acc: 0.1796 - val_loss: 0.0133 - val_acc: 0.6453\n",
      "Epoch 6/50\n",
      "11014/11014 [==============================] - 1s 111us/step - loss: 0.0298 - acc: 0.1957 - val_loss: 0.0115 - val_acc: 0.6908\n",
      "Epoch 7/50\n",
      "11014/11014 [==============================] - 1s 104us/step - loss: 0.0297 - acc: 0.1990 - val_loss: 0.0125 - val_acc: 0.6633\n",
      "Epoch 8/50\n",
      "11014/11014 [==============================] - 1s 106us/step - loss: 0.0296 - acc: 0.2008 - val_loss: 0.0126 - val_acc: 0.6597\n",
      "Epoch 9/50\n",
      "11014/11014 [==============================] - 1s 99us/step - loss: 0.0296 - acc: 0.2021 - val_loss: 0.0123 - val_acc: 0.6685\n",
      "Epoch 10/50\n",
      "11014/11014 [==============================] - 1s 109us/step - loss: 0.0295 - acc: 0.2029 - val_loss: 0.0126 - val_acc: 0.6610\n",
      "Epoch 11/50\n",
      "11014/11014 [==============================] - 1s 99us/step - loss: 0.0295 - acc: 0.2037 - val_loss: 0.0129 - val_acc: 0.6532\n",
      "Epoch 12/50\n",
      "11014/11014 [==============================] - 1s 93us/step - loss: 0.0295 - acc: 0.2038 - val_loss: 0.0127 - val_acc: 0.6565\n",
      "Epoch 13/50\n",
      "11014/11014 [==============================] - 1s 94us/step - loss: 0.0295 - acc: 0.2041 - val_loss: 0.0127 - val_acc: 0.6579\n",
      "Epoch 14/50\n",
      "11014/11014 [==============================] - 1s 123us/step - loss: 0.0295 - acc: 0.2046 - val_loss: 0.0127 - val_acc: 0.6590\n",
      "Epoch 15/50\n",
      "11014/11014 [==============================] - 1s 114us/step - loss: 0.0295 - acc: 0.2048 - val_loss: 0.0127 - val_acc: 0.6572\n",
      "Epoch 16/50\n",
      "11014/11014 [==============================] - 1s 127us/step - loss: 0.0294 - acc: 0.2067 - val_loss: 0.0203 - val_acc: 0.4613\n",
      "Epoch 17/50\n",
      "11014/11014 [==============================] - 1s 112us/step - loss: 0.0286 - acc: 0.2287 - val_loss: 0.0180 - val_acc: 0.5179\n",
      "Epoch 18/50\n",
      "11014/11014 [==============================] - 1s 112us/step - loss: 0.0281 - acc: 0.2411 - val_loss: 0.0180 - val_acc: 0.5139\n",
      "Epoch 19/50\n",
      "11014/11014 [==============================] - 1s 109us/step - loss: 0.0279 - acc: 0.2486 - val_loss: 0.0173 - val_acc: 0.5327\n",
      "Epoch 20/50\n",
      "11014/11014 [==============================] - 1s 109us/step - loss: 0.0261 - acc: 0.2958 - val_loss: 0.0204 - val_acc: 0.4542\n",
      "Epoch 21/50\n",
      "11014/11014 [==============================] - 1s 110us/step - loss: 0.0252 - acc: 0.3213 - val_loss: 0.0186 - val_acc: 0.4988\n",
      "Epoch 22/50\n",
      "11014/11014 [==============================] - 1s 115us/step - loss: 0.0250 - acc: 0.3266 - val_loss: 0.0191 - val_acc: 0.4858\n",
      "Epoch 23/50\n",
      "11014/11014 [==============================] - 1s 111us/step - loss: 0.0248 - acc: 0.3320 - val_loss: 0.0190 - val_acc: 0.4881\n",
      "Epoch 24/50\n",
      "11014/11014 [==============================] - 1s 121us/step - loss: 0.0247 - acc: 0.3348 - val_loss: 0.0178 - val_acc: 0.5205\n",
      "Epoch 25/50\n",
      "11014/11014 [==============================] - 1s 111us/step - loss: 0.0246 - acc: 0.3355 - val_loss: 0.0162 - val_acc: 0.5644\n",
      "Epoch 26/50\n",
      "11014/11014 [==============================] - 1s 103us/step - loss: 0.0246 - acc: 0.3373 - val_loss: 0.0191 - val_acc: 0.4873\n",
      "Epoch 27/50\n",
      "11014/11014 [==============================] - 1s 93us/step - loss: 0.0245 - acc: 0.3410 - val_loss: 0.0195 - val_acc: 0.4748\n",
      "Epoch 28/50\n",
      "11014/11014 [==============================] - 1s 98us/step - loss: 0.0244 - acc: 0.3417 - val_loss: 0.0187 - val_acc: 0.4967\n",
      "Epoch 29/50\n",
      "11014/11014 [==============================] - 1s 94us/step - loss: 0.0244 - acc: 0.3410 - val_loss: 0.0187 - val_acc: 0.4989\n",
      "Epoch 30/50\n",
      "11014/11014 [==============================] - 1s 93us/step - loss: 0.0244 - acc: 0.3430 - val_loss: 0.0188 - val_acc: 0.4963\n",
      "Epoch 31/50\n",
      "11014/11014 [==============================] - 1s 97us/step - loss: 0.0243 - acc: 0.3448 - val_loss: 0.0187 - val_acc: 0.4969\n",
      "Epoch 32/50\n",
      "11014/11014 [==============================] - 1s 95us/step - loss: 0.0243 - acc: 0.3449 - val_loss: 0.0188 - val_acc: 0.4944\n",
      "Epoch 33/50\n",
      "11014/11014 [==============================] - 1s 94us/step - loss: 0.0243 - acc: 0.3454 - val_loss: 0.0183 - val_acc: 0.5068\n",
      "Epoch 34/50\n",
      "11014/11014 [==============================] - 1s 101us/step - loss: 0.0242 - acc: 0.3463 - val_loss: 0.0189 - val_acc: 0.4930\n",
      "Epoch 35/50\n",
      "11014/11014 [==============================] - 1s 94us/step - loss: 0.0242 - acc: 0.3473 - val_loss: 0.0183 - val_acc: 0.5099\n",
      "Epoch 36/50\n",
      "11014/11014 [==============================] - 1s 99us/step - loss: 0.0242 - acc: 0.3481 - val_loss: 0.0194 - val_acc: 0.4842\n",
      "Epoch 37/50\n",
      "11014/11014 [==============================] - 1s 96us/step - loss: 0.0232 - acc: 0.3777 - val_loss: 0.0183 - val_acc: 0.5089\n",
      "Epoch 38/50\n",
      "11014/11014 [==============================] - 1s 93us/step - loss: 0.0227 - acc: 0.3913 - val_loss: 0.0192 - val_acc: 0.4866\n",
      "Epoch 39/50\n",
      "11014/11014 [==============================] - 1s 96us/step - loss: 0.0224 - acc: 0.3975 - val_loss: 0.0206 - val_acc: 0.4478\n",
      "Epoch 40/50\n",
      "11014/11014 [==============================] - 1s 94us/step - loss: 0.0223 - acc: 0.4018 - val_loss: 0.0190 - val_acc: 0.4911\n",
      "Epoch 41/50\n",
      "11014/11014 [==============================] - 1s 98us/step - loss: 0.0221 - acc: 0.4069 - val_loss: 0.0200 - val_acc: 0.4631\n",
      "Epoch 42/50\n",
      "11014/11014 [==============================] - 1s 94us/step - loss: 0.0220 - acc: 0.4081 - val_loss: 0.0188 - val_acc: 0.4936\n",
      "Epoch 43/50\n",
      "11014/11014 [==============================] - 1s 94us/step - loss: 0.0218 - acc: 0.4119 - val_loss: 0.0182 - val_acc: 0.5118\n",
      "Epoch 44/50\n",
      "11014/11014 [==============================] - 1s 93us/step - loss: 0.0218 - acc: 0.4138 - val_loss: 0.0195 - val_acc: 0.4762\n",
      "Epoch 45/50\n",
      "11014/11014 [==============================] - 1s 96us/step - loss: 0.0217 - acc: 0.4169 - val_loss: 0.0177 - val_acc: 0.5259\n",
      "Epoch 46/50\n",
      "11014/11014 [==============================] - 1s 97us/step - loss: 0.0217 - acc: 0.4171 - val_loss: 0.0195 - val_acc: 0.4785\n",
      "Epoch 47/50\n",
      "11014/11014 [==============================] - 1s 103us/step - loss: 0.0215 - acc: 0.4206 - val_loss: 0.0174 - val_acc: 0.5327\n",
      "Epoch 48/50\n",
      "11014/11014 [==============================] - 1s 96us/step - loss: 0.0216 - acc: 0.4196 - val_loss: 0.0196 - val_acc: 0.4751\n",
      "Epoch 49/50\n",
      "11014/11014 [==============================] - 1s 94us/step - loss: 0.0214 - acc: 0.4222 - val_loss: 0.0193 - val_acc: 0.4826\n",
      "Epoch 50/50\n",
      "11014/11014 [==============================] - 1s 97us/step - loss: 0.0214 - acc: 0.4254 - val_loss: 0.0195 - val_acc: 0.4776\n"
     ]
    },
    {
     "data": {
      "text/plain": [
       "<keras.callbacks.History at 0x1b0010f8eb8>"
      ]
     },
     "execution_count": 44,
     "metadata": {},
     "output_type": "execute_result"
    }
   ],
   "source": [
    "model.fit(x=X_train, y=y_train,\n",
    "          epochs=100,\n",
    "          batch_size=200,\n",
    "          shuffle=True,\n",
    "          validation_data=(X_val, y_val))"
   ]
  },
  {
   "cell_type": "markdown",
   "metadata": {},
   "source": [
    "# Compute predictions\n",
    "Change predictions vector representation from probabilities to one-hot-encoded "
   ]
  },
  {
   "cell_type": "code",
   "execution_count": 45,
   "metadata": {},
   "outputs": [],
   "source": [
    "def prob2sparse(y):\n",
    "    \n",
    "    shape = y.shape\n",
    "    row_it = range(shape[0])\n",
    "    column_it = range(shape[1])\n",
    "    \n",
    "    biggest = np.amax(y, axis=1)\n",
    "\n",
    "    for row in row_it:\n",
    "        for column in column_it:\n",
    "            if y[row, column]<biggest[row]:\n",
    "                y[row,column] = 0\n",
    "            elif y[row, column]==biggest[row]:\n",
    "                y[row,column] = 1\n",
    "                \n",
    "    return y\n",
    "\n",
    "\n",
    "y_pred = model.predict(X_test)\n",
    "y_pred = prob2sparse(y_pred)\n",
    "\n",
    "y_pred = pd.DataFrame(data=y_pred, columns=list(y_train))   "
   ]
  },
  {
   "cell_type": "markdown",
   "metadata": {},
   "source": [
    "# Evaluation Metrics"
   ]
  },
  {
   "cell_type": "code",
   "execution_count": 50,
   "metadata": {},
   "outputs": [
    {
     "name": "stdout",
     "output_type": "stream",
     "text": [
      "Multiclass F1 score on test set: 0.4578386341970708\n",
      "Logistic loss on test set: 18.72559018494176\n",
      "Accuracy on test set: 0.4578386341970708\n"
     ]
    },
    {
     "data": {
      "image/png": "[encoded data removed]",
      "text/plain": [
       "<Figure size 432x288 with 1 Axes>"
      ]
     },
     "metadata": {
      "needs_background": "light"
     },
     "output_type": "display_data"
    }
   ],
   "source": [
    "print(\"Multiclass F1 score on test set:\", metrics.f1_score(y_test, y_pred, average='micro'))\n",
    "print(\"Logistic loss on test set:\", metrics.log_loss(y_test, y_pred))\n",
    "print(\"Accuracy on test set:\",metrics.accuracy_score(y_test, y_pred))\n",
    "\n",
    "y_test_plot = y_test.values\n",
    "y_pred_plot = y_pred.values\n",
    "\n",
    "fpr = dict()\n",
    "tpr = dict()\n",
    "roc_auc = dict()\n",
    "\n",
    "for i in range(54):\n",
    "    fpr[i], tpr[i], _ = metrics.roc_curve(y_test_plot[:, i], y_pred_plot[:, i])\n",
    "    roc_auc[i] = metrics.auc(fpr[i], tpr[i])\n",
    "\n",
    "fpr[\"micro\"], tpr[\"micro\"], _ = metrics.roc_curve(y_test_plot.ravel(), y_pred_plot.ravel())\n",
    "roc_auc[\"micro\"] = metrics.auc(fpr[\"micro\"], tpr[\"micro\"])\n",
    "\n",
    "\n",
    "plt.figure()\n",
    "lw = 2\n",
    "plt.plot(fpr[\"micro\"], tpr[\"micro\"], color='darkorange', lw=lw, linestyle='-',\n",
    "         label='ROC curve (area = %0.2f)' % roc_auc[\"micro\"])\n",
    "plt.plot([0, 1], [0, 1], color='navy', lw=lw, linestyle='--')\n",
    "plt.xlim([-0.025, 1])\n",
    "plt.ylim([0.0, 1.05])\n",
    "plt.xlabel('False Positive Rate')\n",
    "plt.ylabel('True Positive Rate')\n",
    "plt.title('Receiver operating characteristic example')\n",
    "plt.legend(loc=\"lower right\")\n",
    "plt.show()"
   ]
  },
  {
   "cell_type": "code",
   "execution_count": null,
   "metadata": {},
   "outputs": [],
   "source": []
  }
 ],
 "metadata": {
  "kernelspec": {
   "display_name": "Python 3",
   "language": "python",
   "name": "python3"
  },
  "language_info": {
   "codemirror_mode": {
    "name": "ipython",
    "version": 3
   },
   "file_extension": ".py",
   "mimetype": "text/x-python",
   "name": "python",
   "nbconvert_exporter": "python",
   "pygments_lexer": "ipython3",
   "version": "3.7.1"
  }
 },
 "nbformat": 4,
 "nbformat_minor": 2
}
